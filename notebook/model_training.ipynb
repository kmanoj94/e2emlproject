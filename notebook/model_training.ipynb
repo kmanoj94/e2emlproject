{
 "cells": [
  {
   "cell_type": "code",
   "execution_count": 2,
   "metadata": {},
   "outputs": [],
   "source": [
    "import pandas as pd\n",
    "import numpy as np\n",
    "import seaborn as sns\n",
    "import matplotlib.pyplot as plt\n",
    "%matplotlib inline\n",
    "import warnings\n",
    "warnings.filterwarnings('ignore')\n",
    "from sklearn.metrics import mean_squared_error, r2_score,mean_absolute_error\n",
    "from sklearn.neighbors import KNeighborsRegressor\n",
    "from sklearn.tree import DecisionTreeRegressor\n",
    "from sklearn.ensemble import RandomForestRegressor, AdaBoostRegressor\n",
    "from sklearn.svm import SVR\n",
    "from sklearn.linear_model import LinearRegression,Ridge,Lasso\n",
    "from sklearn.model_selection import RandomizedSearchCV\n",
    "from catboost import CatBoostRegressor\n",
    "from xgboost import XGBRFRegressor\n"
   ]
  },
  {
   "cell_type": "code",
   "execution_count": 3,
   "metadata": {},
   "outputs": [],
   "source": [
    "df = pd.read_csv(r\"D:\\mlproject\\notebook\\data\\stud.csv\")"
   ]
  },
  {
   "cell_type": "code",
   "execution_count": 4,
   "metadata": {},
   "outputs": [
    {
     "data": {
      "text/html": [
       "<div>\n",
       "<style scoped>\n",
       "    .dataframe tbody tr th:only-of-type {\n",
       "        vertical-align: middle;\n",
       "    }\n",
       "\n",
       "    .dataframe tbody tr th {\n",
       "        vertical-align: top;\n",
       "    }\n",
       "\n",
       "    .dataframe thead th {\n",
       "        text-align: right;\n",
       "    }\n",
       "</style>\n",
       "<table border=\"1\" class=\"dataframe\">\n",
       "  <thead>\n",
       "    <tr style=\"text-align: right;\">\n",
       "      <th></th>\n",
       "      <th>gender</th>\n",
       "      <th>race_ethnicity</th>\n",
       "      <th>parental_level_of_education</th>\n",
       "      <th>lunch</th>\n",
       "      <th>test_preparation_course</th>\n",
       "      <th>reading_score</th>\n",
       "      <th>writing_score</th>\n",
       "    </tr>\n",
       "  </thead>\n",
       "  <tbody>\n",
       "    <tr>\n",
       "      <th>0</th>\n",
       "      <td>female</td>\n",
       "      <td>group B</td>\n",
       "      <td>bachelor's degree</td>\n",
       "      <td>standard</td>\n",
       "      <td>none</td>\n",
       "      <td>72</td>\n",
       "      <td>74</td>\n",
       "    </tr>\n",
       "    <tr>\n",
       "      <th>1</th>\n",
       "      <td>female</td>\n",
       "      <td>group C</td>\n",
       "      <td>some college</td>\n",
       "      <td>standard</td>\n",
       "      <td>completed</td>\n",
       "      <td>90</td>\n",
       "      <td>88</td>\n",
       "    </tr>\n",
       "    <tr>\n",
       "      <th>2</th>\n",
       "      <td>female</td>\n",
       "      <td>group B</td>\n",
       "      <td>master's degree</td>\n",
       "      <td>standard</td>\n",
       "      <td>none</td>\n",
       "      <td>95</td>\n",
       "      <td>93</td>\n",
       "    </tr>\n",
       "    <tr>\n",
       "      <th>3</th>\n",
       "      <td>male</td>\n",
       "      <td>group A</td>\n",
       "      <td>associate's degree</td>\n",
       "      <td>free/reduced</td>\n",
       "      <td>none</td>\n",
       "      <td>57</td>\n",
       "      <td>44</td>\n",
       "    </tr>\n",
       "    <tr>\n",
       "      <th>4</th>\n",
       "      <td>male</td>\n",
       "      <td>group C</td>\n",
       "      <td>some college</td>\n",
       "      <td>standard</td>\n",
       "      <td>none</td>\n",
       "      <td>78</td>\n",
       "      <td>75</td>\n",
       "    </tr>\n",
       "  </tbody>\n",
       "</table>\n",
       "</div>"
      ],
      "text/plain": [
       "   gender race_ethnicity parental_level_of_education         lunch  \\\n",
       "0  female        group B           bachelor's degree      standard   \n",
       "1  female        group C                some college      standard   \n",
       "2  female        group B             master's degree      standard   \n",
       "3    male        group A          associate's degree  free/reduced   \n",
       "4    male        group C                some college      standard   \n",
       "\n",
       "  test_preparation_course  reading_score  writing_score  \n",
       "0                    none             72             74  \n",
       "1               completed             90             88  \n",
       "2                    none             95             93  \n",
       "3                    none             57             44  \n",
       "4                    none             78             75  "
      ]
     },
     "execution_count": 4,
     "metadata": {},
     "output_type": "execute_result"
    }
   ],
   "source": [
    "X = df.drop(columns=['math_score'],axis=1)\n",
    "X.head()"
   ]
  },
  {
   "cell_type": "code",
   "execution_count": 5,
   "metadata": {},
   "outputs": [
    {
     "name": "stdout",
     "output_type": "stream",
     "text": [
      "Categories in 'gender' variable: ['female' 'male']\n"
     ]
    }
   ],
   "source": [
    "print(\"Categories in 'gender' variable:\",end=\" \" )\n",
    "print(df['gender'].unique())"
   ]
  },
  {
   "cell_type": "code",
   "execution_count": 6,
   "metadata": {},
   "outputs": [
    {
     "data": {
      "text/plain": [
       "0      72\n",
       "1      69\n",
       "2      90\n",
       "3      47\n",
       "4      76\n",
       "       ..\n",
       "995    88\n",
       "996    62\n",
       "997    59\n",
       "998    68\n",
       "999    77\n",
       "Name: math_score, Length: 1000, dtype: int64"
      ]
     },
     "execution_count": 6,
     "metadata": {},
     "output_type": "execute_result"
    }
   ],
   "source": [
    "y = df['math_score']\n",
    "y"
   ]
  },
  {
   "cell_type": "code",
   "execution_count": 7,
   "metadata": {},
   "outputs": [],
   "source": [
    "num_feature = X.select_dtypes(exclude=\"object\").columns\n",
    "cat_feature = X.select_dtypes(include=\"object\").columns\n"
   ]
  },
  {
   "cell_type": "code",
   "execution_count": 8,
   "metadata": {},
   "outputs": [],
   "source": [
    "from sklearn.preprocessing import OneHotEncoder, StandardScaler\n",
    "from sklearn.compose import ColumnTransformer\n"
   ]
  },
  {
   "cell_type": "code",
   "execution_count": 9,
   "metadata": {},
   "outputs": [],
   "source": [
    "num_transformer = StandardScaler()\n",
    "on_transformer = OneHotEncoder()\n",
    "preprocessor = ColumnTransformer(\n",
    "    [\n",
    "        (\"OneHotEncoder\",on_transformer,cat_feature),\n",
    "        (\"StandardScaler\",num_transformer,num_feature)\n",
    "    ]\n",
    ")"
   ]
  },
  {
   "cell_type": "code",
   "execution_count": 10,
   "metadata": {},
   "outputs": [
    {
     "data": {
      "text/plain": [
       "(1000, 19)"
      ]
     },
     "execution_count": 10,
     "metadata": {},
     "output_type": "execute_result"
    }
   ],
   "source": [
    "X = preprocessor.fit_transform(X)\n",
    "X.shape"
   ]
  },
  {
   "cell_type": "code",
   "execution_count": 11,
   "metadata": {},
   "outputs": [
    {
     "data": {
      "text/plain": [
       "((800, 19), (200, 19))"
      ]
     },
     "execution_count": 11,
     "metadata": {},
     "output_type": "execute_result"
    }
   ],
   "source": [
    "from sklearn.model_selection import train_test_split\n",
    "X_train,X_test,y_train,y_test = train_test_split(X,y,test_size=0.2,random_state=42)\n",
    "X_train.shape,X_test.shape"
   ]
  },
  {
   "cell_type": "code",
   "execution_count": 20,
   "metadata": {},
   "outputs": [],
   "source": [
    "def evaluate_model(true,predicted):\n",
    "    mae = mean_absolute_error(true,predicted)\n",
    "    mse = mean_squared_error(true,predicted)\n",
    "    rmse = np.sqrt(mse)\n",
    "    r2_scor = r2_score(true,predicted)\n",
    "    return mae,rmse,r2_scor\n"
   ]
  },
  {
   "cell_type": "code",
   "execution_count": 22,
   "metadata": {},
   "outputs": [
    {
     "name": "stdout",
     "output_type": "stream",
     "text": [
      "Linear Regression\n",
      "model performance for trainig set:\n",
      "mean absolute error is: 4.267138671875\n",
      "root mean squared error is: 5.324354270503339\n",
      "r2 score is: 0.8742556463650867\n",
      "----------------------------------\n",
      "model performancr for test set is:\n",
      "mean absolute error is: 4.2158203125\n",
      "root mean squared error is: 5.3959872842671395\n",
      "r2 score is: 0.8803449074540941\n",
      "===================================\n",
      "\n",
      "\n",
      "Lasso\n",
      "model performance for trainig set:\n",
      "mean absolute error is: 5.206302661246526\n",
      "root mean squared error is: 6.593815587795566\n",
      "r2 score is: 0.8071462015863456\n",
      "----------------------------------\n",
      "model performancr for test set is:\n",
      "mean absolute error is: 5.157881810347763\n",
      "root mean squared error is: 6.519694535667419\n",
      "r2 score is: 0.8253197323627853\n",
      "===================================\n",
      "\n",
      "\n",
      "Ridge\n",
      "model performance for trainig set:\n",
      "mean absolute error is: 4.26498782372598\n",
      "root mean squared error is: 5.323324922741654\n",
      "r2 score is: 0.8743042615212909\n",
      "----------------------------------\n",
      "model performancr for test set is:\n",
      "mean absolute error is: 4.211100688014261\n",
      "root mean squared error is: 5.390387016935639\n",
      "r2 score is: 0.8805931485028737\n",
      "===================================\n",
      "\n",
      "\n",
      "K-Neighbour Regressor\n",
      "model performance for trainig set:\n",
      "mean absolute error is: 4.516749999999999\n",
      "root mean squared error is: 5.707683417990174\n",
      "r2 score is: 0.8554978341651085\n",
      "----------------------------------\n",
      "model performancr for test set is:\n",
      "mean absolute error is: 5.621\n",
      "root mean squared error is: 7.253040741647602\n",
      "r2 score is: 0.7838129945787431\n",
      "===================================\n",
      "\n",
      "\n",
      "Decision Tree\n",
      "model performance for trainig set:\n",
      "mean absolute error is: 0.01875\n",
      "root mean squared error is: 0.2795084971874737\n",
      "r2 score is: 0.9996534669718089\n",
      "----------------------------------\n",
      "model performancr for test set is:\n",
      "mean absolute error is: 6.195\n",
      "root mean squared error is: 7.74306141006256\n",
      "r2 score is: 0.7536147192551608\n",
      "===================================\n",
      "\n",
      "\n",
      "Random Forest Regressor\n",
      "model performance for trainig set:\n",
      "mean absolute error is: 1.8285583333333333\n",
      "root mean squared error is: 2.293411458516669\n",
      "r2 score is: 0.9766697947587063\n",
      "----------------------------------\n",
      "model performancr for test set is:\n",
      "mean absolute error is: 4.683624999999999\n",
      "root mean squared error is: 5.989837603298514\n",
      "r2 score is: 0.8525585994077018\n",
      "===================================\n",
      "\n",
      "\n",
      "XGBRegressor\n",
      "model performance for trainig set:\n",
      "mean absolute error is: 3.7878572714328764\n",
      "root mean squared error is: 4.7225371364956805\n",
      "r2 score is: 0.9010751576455209\n",
      "----------------------------------\n",
      "model performancr for test set is:\n",
      "mean absolute error is: 4.515250110626221\n",
      "root mean squared error is: 5.785806355721521\n",
      "r2 score is: 0.8624320896911152\n",
      "===================================\n",
      "\n",
      "\n",
      "CatBoosting Regressor\n",
      "model performance for trainig set:\n",
      "mean absolute error is: 2.405393926779502\n",
      "root mean squared error is: 3.042664195326799\n",
      "r2 score is: 0.9589358676277713\n",
      "----------------------------------\n",
      "model performancr for test set is:\n",
      "mean absolute error is: 4.612531714976557\n",
      "root mean squared error is: 6.008631956907363\n",
      "r2 score is: 0.8516318920747058\n",
      "===================================\n",
      "\n",
      "\n",
      "AdaBoost Regressor\n",
      "model performance for trainig set:\n",
      "mean absolute error is: 4.76557715810598\n",
      "root mean squared error is: 5.835010927834164\n",
      "r2 score is: 0.8489787881804859\n",
      "----------------------------------\n",
      "model performancr for test set is:\n",
      "mean absolute error is: 4.691838132022213\n",
      "root mean squared error is: 6.021150050480576\n",
      "r2 score is: 0.8510130422062353\n",
      "===================================\n",
      "\n",
      "\n"
     ]
    }
   ],
   "source": [
    "models = {\n",
    "    \"Linear Regression\":LinearRegression(),\n",
    "    \"Lasso\": Lasso(),\n",
    "    \"Ridge\":Ridge(),\n",
    "    \"K-Neighbour Regressor\": KNeighborsRegressor(),\n",
    "    \"Decision Tree\": DecisionTreeRegressor(),\n",
    "    \"Random Forest Regressor\": RandomForestRegressor(),\n",
    "    \"XGBRegressor\":XGBRFRegressor(),\n",
    "    \"CatBoosting Regressor\":CatBoostRegressor(verbose=False),\n",
    "    \"AdaBoost Regressor\": AdaBoostRegressor()\n",
    "}\n",
    "\n",
    "model_list = []\n",
    "r2_list = []\n",
    "\n",
    "for i in range(len(list(models))):\n",
    "    model = list(models.values())[i]\n",
    "    model.fit(X_train,y_train)\n",
    "\n",
    "    y_train_pred = model.predict(X_train)\n",
    "    y_test_pred = model.predict(X_test)\n",
    "\n",
    "    model_train_mae,model_train_rmse, model_train_r2 = evaluate_model(y_train,y_train_pred)\n",
    "\n",
    "    model_test_mae, model_test_rmse, model_test_r2 = evaluate_model(y_test,y_test_pred)\n",
    "\n",
    "    print(list(models.keys())[i])\n",
    "    model_list.append(list(models.keys())[i])\n",
    "    \n",
    "\n",
    "    print(\"model performance for trainig set:\")\n",
    "    print(\"mean absolute error is:\", model_train_mae)\n",
    "    print(\"root mean squared error is:\",model_train_rmse)\n",
    "    print(\"r2 score is:\",model_train_r2)\n",
    "\n",
    "    print('----------------------------------')\n",
    "\n",
    "    print(\"model performancr for test set is:\")\n",
    "    print(\"mean absolute error is:\", model_test_mae)\n",
    "    print(\"root mean squared error is:\",model_test_rmse)\n",
    "    print(\"r2 score is:\",model_test_r2)\n",
    "    r2_list.append(model_test_r2)\n",
    "\n",
    "    print('='*35)\n",
    "    print('\\n')\n",
    "\n",
    "\n"
   ]
  },
  {
   "cell_type": "code",
   "execution_count": 23,
   "metadata": {},
   "outputs": [
    {
     "data": {
      "text/html": [
       "<div>\n",
       "<style scoped>\n",
       "    .dataframe tbody tr th:only-of-type {\n",
       "        vertical-align: middle;\n",
       "    }\n",
       "\n",
       "    .dataframe tbody tr th {\n",
       "        vertical-align: top;\n",
       "    }\n",
       "\n",
       "    .dataframe thead th {\n",
       "        text-align: right;\n",
       "    }\n",
       "</style>\n",
       "<table border=\"1\" class=\"dataframe\">\n",
       "  <thead>\n",
       "    <tr style=\"text-align: right;\">\n",
       "      <th></th>\n",
       "      <th>model</th>\n",
       "      <th>r2_score</th>\n",
       "    </tr>\n",
       "  </thead>\n",
       "  <tbody>\n",
       "    <tr>\n",
       "      <th>2</th>\n",
       "      <td>Ridge</td>\n",
       "      <td>0.880593</td>\n",
       "    </tr>\n",
       "    <tr>\n",
       "      <th>0</th>\n",
       "      <td>Linear Regression</td>\n",
       "      <td>0.880345</td>\n",
       "    </tr>\n",
       "    <tr>\n",
       "      <th>6</th>\n",
       "      <td>XGBRegressor</td>\n",
       "      <td>0.862432</td>\n",
       "    </tr>\n",
       "    <tr>\n",
       "      <th>5</th>\n",
       "      <td>Random Forest Regressor</td>\n",
       "      <td>0.852559</td>\n",
       "    </tr>\n",
       "    <tr>\n",
       "      <th>7</th>\n",
       "      <td>CatBoosting Regressor</td>\n",
       "      <td>0.851632</td>\n",
       "    </tr>\n",
       "    <tr>\n",
       "      <th>8</th>\n",
       "      <td>AdaBoost Regressor</td>\n",
       "      <td>0.851013</td>\n",
       "    </tr>\n",
       "    <tr>\n",
       "      <th>1</th>\n",
       "      <td>Lasso</td>\n",
       "      <td>0.825320</td>\n",
       "    </tr>\n",
       "    <tr>\n",
       "      <th>3</th>\n",
       "      <td>K-Neighbour Regressor</td>\n",
       "      <td>0.783813</td>\n",
       "    </tr>\n",
       "    <tr>\n",
       "      <th>4</th>\n",
       "      <td>Decision Tree</td>\n",
       "      <td>0.753615</td>\n",
       "    </tr>\n",
       "  </tbody>\n",
       "</table>\n",
       "</div>"
      ],
      "text/plain": [
       "                     model  r2_score\n",
       "2                    Ridge  0.880593\n",
       "0        Linear Regression  0.880345\n",
       "6             XGBRegressor  0.862432\n",
       "5  Random Forest Regressor  0.852559\n",
       "7    CatBoosting Regressor  0.851632\n",
       "8       AdaBoost Regressor  0.851013\n",
       "1                    Lasso  0.825320\n",
       "3    K-Neighbour Regressor  0.783813\n",
       "4            Decision Tree  0.753615"
      ]
     },
     "execution_count": 23,
     "metadata": {},
     "output_type": "execute_result"
    }
   ],
   "source": [
    "pd.DataFrame(list(zip(model_list,r2_list)),columns=['model','r2_score']).sort_values(by=['r2_score'],ascending=False)"
   ]
  },
  {
   "cell_type": "code",
   "execution_count": null,
   "metadata": {},
   "outputs": [],
   "source": []
  }
 ],
 "metadata": {
  "kernelspec": {
   "display_name": "Python 3",
   "language": "python",
   "name": "python3"
  },
  "language_info": {
   "codemirror_mode": {
    "name": "ipython",
    "version": 3
   },
   "file_extension": ".py",
   "mimetype": "text/x-python",
   "name": "python",
   "nbconvert_exporter": "python",
   "pygments_lexer": "ipython3",
   "version": "3.8.0"
  }
 },
 "nbformat": 4,
 "nbformat_minor": 2
}
